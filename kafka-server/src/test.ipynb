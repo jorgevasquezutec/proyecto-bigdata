{
 "cells": [
  {
   "cell_type": "code",
   "execution_count": 1,
   "metadata": {},
   "outputs": [],
   "source": [
    "from lib import *"
   ]
  },
  {
   "cell_type": "code",
   "execution_count": 3,
   "metadata": {},
   "outputs": [
    {
     "name": "stdout",
     "output_type": "stream",
     "text": [
      "init video2frames\n",
      "num_total_frames 75.0\n",
      "cantidad frames:  16\n",
      "cuDNN error: CUDNN_STATUS_NOT_INITIALIZED\n"
     ]
    }
   ],
   "source": [
    "try:\n",
    "    URL = 'http://localhost:3001/videos/'\n",
    "    video ='6xfgIsjz2EAF4zij1TN6YSeLVjHa9AnH5Qo3URnfbvMGCZ2IgMpTd8qKHVWOozPN.webm'\n",
    "    # event = json.loads(msg.decode('utf-8'))\n",
    "    any_video = URL+video\n",
    "    model = torchvision.models.resnet18(pretrained=True)\n",
    "    for e in model.parameters():\n",
    "        e.requires_grad = False\n",
    "    device = torch.device('cuda:0' if torch.cuda.is_available() else 'cpu')\n",
    "    model.fc = nn.Linear(in_features=512, out_features=4, bias=True)\n",
    "    model.load_state_dict(torch.load(\"../../models/resnet18_5.pt\"))\n",
    "    model.to(device)\n",
    "    frames = BasicUtil.video2frames(any_video)\n",
    "    dataset_x = []\n",
    "    dataset_x = [*dataset_x, *frames]\n",
    "    dataset_x = np.array(dataset_x)\n",
    "    tensor_y_test = torch.as_tensor(np.array([0 for i in range(16)]))\n",
    "    data_test: MyDataset = MyDataset(dataset_x, tensor_y_test)\n",
    "    test_loader: DataLoader = DataLoader(dataset=data_test, shuffle=False)\n",
    "    res = []\n",
    "    for images, _ in test_loader:\n",
    "        images = images.to(device)\n",
    "        outputs = model(images)\n",
    "        _, predicted = torch.max(outputs.data, 1)\n",
    "        res.append(np.array(predicted.cpu())[0])\n",
    "    # return st.mode(res) == 0\n",
    "    print(st.mode(res))\n",
    "except Exception as e:\n",
    "    print(e)\n",
    "    # return False"
   ]
  }
 ],
 "metadata": {
  "kernelspec": {
   "display_name": "Python 3.9.15 ('spoofing-kafka')",
   "language": "python",
   "name": "python3"
  },
  "language_info": {
   "codemirror_mode": {
    "name": "ipython",
    "version": 3
   },
   "file_extension": ".py",
   "mimetype": "text/x-python",
   "name": "python",
   "nbconvert_exporter": "python",
   "pygments_lexer": "ipython3",
   "version": "3.9.15"
  },
  "orig_nbformat": 4,
  "vscode": {
   "interpreter": {
    "hash": "89fe010ff49a8ce4dbbb05aeda653bd8f0feaf4119263cdf701540a6ad8e4700"
   }
  }
 },
 "nbformat": 4,
 "nbformat_minor": 2
}
