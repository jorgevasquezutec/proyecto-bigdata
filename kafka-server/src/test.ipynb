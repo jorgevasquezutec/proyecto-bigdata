{
 "cells": [
  {
   "cell_type": "code",
   "execution_count": 1,
   "metadata": {},
   "outputs": [],
   "source": [
    "from lib import *"
   ]
  },
  {
   "cell_type": "code",
   "execution_count": 2,
   "metadata": {},
   "outputs": [
    {
     "name": "stdout",
     "output_type": "stream",
     "text": [
      "init video2frames\n",
      "num_total_frames 0.0\n",
      "ModeResult(mode=array([], dtype=float64), count=array([], dtype=float64))\n"
     ]
    },
    {
     "name": "stderr",
     "output_type": "stream",
     "text": [
      "[tcp @ 0xe6a0340] Connection to tcp://localhost:3001 failed: Connection refused\n",
      "/tmp/ipykernel_7455/4251835917.py:27: FutureWarning: Unlike other reduction functions (e.g. `skew`, `kurtosis`), the default behavior of `mode` typically preserves the axis it acts along. In SciPy 1.11.0, this behavior will change: the default value of `keepdims` will become False, the `axis` over which the statistic is taken will be eliminated, and the value None will no longer be accepted. Set `keepdims` to True or False to avoid this warning.\n",
      "  print(st.mode(res))\n"
     ]
    }
   ],
   "source": [
    "try:\n",
    "    URL = 'http://localhost:3001/videos/'\n",
    "    video ='2a4l7Lts2071cNEcpGVg2SzzZuASWQFFC8jXZ8Z4WyIzTceg5aoXAkArwEk0MzqW.webm'\n",
    "    # event = json.loads(msg.decode('utf-8'))\n",
    "    any_video = URL+video\n",
    "    model = torchvision.models.resnet18(pretrained=True)\n",
    "    for e in model.parameters():\n",
    "        e.requires_grad = False\n",
    "    device = torch.device('cuda:0' if torch.cuda.is_available() else 'cpu')\n",
    "    model.fc = nn.Linear(in_features=512, out_features=4, bias=True)\n",
    "    model.load_state_dict(torch.load(\"../../models/resnet18_5.pt\"))\n",
    "    model.to(device)\n",
    "    frames = BasicUtil.video2frames(any_video)\n",
    "    dataset_x = []\n",
    "    dataset_x = [*dataset_x, *frames]\n",
    "    dataset_x = np.array(dataset_x)\n",
    "    tensor_y_test = torch.as_tensor(np.array([0 for i in range(16)]))\n",
    "    data_test: MyDataset = MyDataset(dataset_x, tensor_y_test)\n",
    "    test_loader: DataLoader = DataLoader(dataset=data_test, shuffle=False)\n",
    "    res = []\n",
    "    for images, _ in test_loader:\n",
    "        images = images.to(device)\n",
    "        outputs = model(images)\n",
    "        _, predicted = torch.max(outputs.data, 1)\n",
    "        res.append(np.array(predicted.cpu())[0])\n",
    "    # return st.mode(res) == 0\n",
    "    print(st.mode(res))\n",
    "except Exception as e:\n",
    "    print(e)\n",
    "    # return False"
   ]
  }
 ],
 "metadata": {
  "kernelspec": {
   "display_name": "Python 3.9.15 ('spoofing-kafka')",
   "language": "python",
   "name": "python3"
  },
  "language_info": {
   "codemirror_mode": {
    "name": "ipython",
    "version": 3
   },
   "file_extension": ".py",
   "mimetype": "text/x-python",
   "name": "python",
   "nbconvert_exporter": "python",
   "pygments_lexer": "ipython3",
   "version": "3.9.15"
  },
  "orig_nbformat": 4,
  "vscode": {
   "interpreter": {
    "hash": "89fe010ff49a8ce4dbbb05aeda653bd8f0feaf4119263cdf701540a6ad8e4700"
   }
  }
 },
 "nbformat": 4,
 "nbformat_minor": 2
}
