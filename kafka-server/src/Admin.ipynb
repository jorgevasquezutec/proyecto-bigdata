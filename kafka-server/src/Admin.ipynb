{
 "cells": [
  {
   "cell_type": "code",
   "execution_count": 11,
   "metadata": {},
   "outputs": [],
   "source": [
    "from confluent_kafka.admin import AdminClient, NewTopic"
   ]
  },
  {
   "cell_type": "code",
   "execution_count": 13,
   "metadata": {},
   "outputs": [],
   "source": [
    "brokers = AdminClient({'bootstrap.servers': 'localhost:8097,localhost:8098,localhost:8099,localhost:8100'})\n",
    "topics = [\n",
    "    'loginattempt',\n",
    "    'filtered',\n",
    "    'checked',\n",
    "    'celery'\n",
    "]"
   ]
  },
  {
   "cell_type": "code",
   "execution_count": 14,
   "metadata": {},
   "outputs": [],
   "source": [
    "new_topics = [NewTopic(topic, num_partitions=3, replication_factor=1) for topic in topics]"
   ]
  },
  {
   "cell_type": "code",
   "execution_count": 15,
   "metadata": {},
   "outputs": [],
   "source": [
    "fs = brokers.create_topics(new_topics)"
   ]
  },
  {
   "cell_type": "code",
   "execution_count": 16,
   "metadata": {},
   "outputs": [
    {
     "name": "stdout",
     "output_type": "stream",
     "text": [
      "Topic loginattempt created\n",
      "<Future at 0x7fed7c5f0b20 state=finished returned NoneType>\n",
      "Topic filtered created\n",
      "<Future at 0x7fed7c5f0820 state=finished returned NoneType>\n",
      "Topic checked created\n",
      "<Future at 0x7fed7c5f0a30 state=finished returned NoneType>\n",
      "Topic celery created\n",
      "<Future at 0x7fed7c5f0e80 state=finished returned NoneType>\n"
     ]
    },
    {
     "name": "stderr",
     "output_type": "stream",
     "text": [
      "%3|1669338021.994|FAIL|rdkafka#producer-4| [thrd:localhost:8097/bootstrap]: localhost:8097/1: Connect to ipv4#127.0.0.1:8097 failed: Connection refused (after 0ms in state CONNECT)\n",
      "%3|1669338022.994|FAIL|rdkafka#producer-4| [thrd:localhost:8099/bootstrap]: localhost:8099/3: Connect to ipv6#[::1]:8099 failed: Connection refused (after 0ms in state CONNECT)\n",
      "%3|1669338023.994|FAIL|rdkafka#producer-4| [thrd:localhost:8098/bootstrap]: localhost:8098/2: Connect to ipv4#127.0.0.1:8098 failed: Connection refused (after 0ms in state CONNECT)\n",
      "%3|1669338024.994|FAIL|rdkafka#producer-4| [thrd:localhost:8097/bootstrap]: localhost:8097/1: Connect to ipv6#[::1]:8097 failed: Connection refused (after 0ms in state CONNECT)\n",
      "%3|1669338025.994|FAIL|rdkafka#producer-4| [thrd:localhost:8098/bootstrap]: localhost:8098/2: Connect to ipv4#127.0.0.1:8098 failed: Connection refused (after 0ms in state CONNECT, 1 identical error(s) suppressed)\n",
      "%3|1669338026.994|FAIL|rdkafka#producer-4| [thrd:localhost:8100/bootstrap]: localhost:8100/4: Connect to ipv4#127.0.0.1:8100 failed: Connection refused (after 0ms in state CONNECT)\n",
      "%3|1669338027.994|FAIL|rdkafka#producer-4| [thrd:localhost:8097/bootstrap]: localhost:8097/1: Connect to ipv6#[::1]:8097 failed: Connection refused (after 0ms in state CONNECT, 1 identical error(s) suppressed)\n",
      "%3|1669338028.994|FAIL|rdkafka#producer-4| [thrd:localhost:8097/bootstrap]: localhost:8097/1: Connect to ipv4#127.0.0.1:8097 failed: Connection refused (after 0ms in state CONNECT)\n",
      "%3|1669338030.994|FAIL|rdkafka#producer-4| [thrd:localhost:8099/bootstrap]: localhost:8099/3: Connect to ipv6#[::1]:8099 failed: Connection refused (after 0ms in state CONNECT, 1 identical error(s) suppressed)\n",
      "%3|1669338031.994|FAIL|rdkafka#producer-4| [thrd:localhost:8097/bootstrap]: localhost:8097/1: Connect to ipv6#[::1]:8097 failed: Connection refused (after 0ms in state CONNECT)\n",
      "%3|1669338032.994|FAIL|rdkafka#producer-4| [thrd:localhost:8097/bootstrap]: localhost:8097/1: Connect to ipv4#127.0.0.1:8097 failed: Connection refused (after 0ms in state CONNECT)\n",
      "%3|1669338034.994|FAIL|rdkafka#producer-4| [thrd:localhost:8098/bootstrap]: localhost:8098/2: Connect to ipv6#[::1]:8098 failed: Connection refused (after 0ms in state CONNECT)\n",
      "%3|1669338035.994|FAIL|rdkafka#producer-4| [thrd:localhost:8100/bootstrap]: localhost:8100/4: Connect to ipv4#127.0.0.1:8100 failed: Connection refused (after 0ms in state CONNECT, 1 identical error(s) suppressed)\n",
      "%3|1669338036.994|FAIL|rdkafka#producer-4| [thrd:localhost:8097/bootstrap]: localhost:8097/1: Connect to ipv6#[::1]:8097 failed: Connection refused (after 0ms in state CONNECT)\n",
      "%3|1669338037.994|FAIL|rdkafka#producer-4| [thrd:localhost:8097/bootstrap]: localhost:8097/1: Connect to ipv4#127.0.0.1:8097 failed: Connection refused (after 0ms in state CONNECT)\n",
      "%3|1669338038.994|FAIL|rdkafka#producer-4| [thrd:localhost:8098/bootstrap]: localhost:8098/2: Connect to ipv4#127.0.0.1:8098 failed: Connection refused (after 0ms in state CONNECT)\n",
      "%3|1669338039.994|FAIL|rdkafka#producer-4| [thrd:localhost:8097/bootstrap]: localhost:8097/1: Connect to ipv6#[::1]:8097 failed: Connection refused (after 0ms in state CONNECT)\n",
      "%3|1669338040.994|FAIL|rdkafka#producer-4| [thrd:localhost:8099/bootstrap]: localhost:8099/3: Connect to ipv4#127.0.0.1:8099 failed: Connection refused (after 0ms in state CONNECT)\n",
      "%3|1669338046.994|FAIL|rdkafka#producer-4| [thrd:localhost:8099/bootstrap]: localhost:8099/3: Connect to ipv6#[::1]:8099 failed: Connection refused (after 0ms in state CONNECT)\n",
      "%3|1669338048.995|FAIL|rdkafka#producer-4| [thrd:localhost:8097/bootstrap]: localhost:8097/1: Connect to ipv4#127.0.0.1:8097 failed: Connection refused (after 0ms in state CONNECT)\n",
      "%3|1669338049.994|FAIL|rdkafka#producer-4| [thrd:localhost:8097/bootstrap]: localhost:8097/1: Connect to ipv6#[::1]:8097 failed: Connection refused (after 0ms in state CONNECT)\n",
      "%3|1669338050.995|FAIL|rdkafka#producer-4| [thrd:localhost:8097/bootstrap]: localhost:8097/1: Connect to ipv4#127.0.0.1:8097 failed: Connection refused (after 0ms in state CONNECT)\n",
      "%3|1669338051.994|FAIL|rdkafka#producer-4| [thrd:localhost:8097/bootstrap]: localhost:8097/1: Connect to ipv6#[::1]:8097 failed: Connection refused (after 0ms in state CONNECT)\n",
      "%3|1669338053.995|FAIL|rdkafka#producer-4| [thrd:localhost:8100/bootstrap]: localhost:8100/4: Connect to ipv6#[::1]:8100 failed: Connection refused (after 0ms in state CONNECT)\n",
      "%3|1669338054.995|FAIL|rdkafka#producer-4| [thrd:localhost:8100/bootstrap]: localhost:8100/4: Connect to ipv4#127.0.0.1:8100 failed: Connection refused (after 0ms in state CONNECT)\n",
      "%3|1669338055.995|FAIL|rdkafka#producer-4| [thrd:localhost:8098/bootstrap]: localhost:8098/2: Connect to ipv6#[::1]:8098 failed: Connection refused (after 0ms in state CONNECT)\n",
      "%3|1669338056.995|FAIL|rdkafka#producer-4| [thrd:localhost:8099/bootstrap]: localhost:8099/3: Connect to ipv4#127.0.0.1:8099 failed: Connection refused (after 0ms in state CONNECT)\n",
      "%3|1669338058.995|FAIL|rdkafka#producer-4| [thrd:localhost:8098/bootstrap]: localhost:8098/2: Connect to ipv4#127.0.0.1:8098 failed: Connection refused (after 0ms in state CONNECT)\n",
      "%3|1669338059.995|FAIL|rdkafka#producer-4| [thrd:localhost:8098/bootstrap]: localhost:8098/2: Connect to ipv6#[::1]:8098 failed: Connection refused (after 0ms in state CONNECT)\n",
      "%3|1669338060.995|FAIL|rdkafka#producer-4| [thrd:localhost:8097/bootstrap]: localhost:8097/1: Connect to ipv4#127.0.0.1:8097 failed: Connection refused (after 0ms in state CONNECT)\n",
      "%3|1669338061.995|FAIL|rdkafka#producer-4| [thrd:localhost:8097/bootstrap]: localhost:8097/1: Connect to ipv6#[::1]:8097 failed: Connection refused (after 0ms in state CONNECT)\n",
      "%3|1669338062.995|FAIL|rdkafka#producer-4| [thrd:localhost:8099/bootstrap]: localhost:8099/3: Connect to ipv4#127.0.0.1:8099 failed: Connection refused (after 0ms in state CONNECT, 1 identical error(s) suppressed)\n",
      "%3|1669338063.995|FAIL|rdkafka#producer-4| [thrd:localhost:8097/bootstrap]: localhost:8097/1: Connect to ipv4#127.0.0.1:8097 failed: Connection refused (after 0ms in state CONNECT)\n",
      "%3|1669338064.995|FAIL|rdkafka#producer-4| [thrd:localhost:8097/bootstrap]: localhost:8097/1: Connect to ipv6#[::1]:8097 failed: Connection refused (after 0ms in state CONNECT)\n",
      "%3|1669338065.995|FAIL|rdkafka#producer-4| [thrd:localhost:8098/bootstrap]: localhost:8098/2: Connect to ipv4#127.0.0.1:8098 failed: Connection refused (after 0ms in state CONNECT)\n",
      "%3|1669338066.995|FAIL|rdkafka#producer-4| [thrd:localhost:8097/bootstrap]: localhost:8097/1: Connect to ipv4#127.0.0.1:8097 failed: Connection refused (after 0ms in state CONNECT)\n",
      "%3|1669338067.995|FAIL|rdkafka#producer-4| [thrd:localhost:8097/bootstrap]: localhost:8097/1: Connect to ipv6#[::1]:8097 failed: Connection refused (after 0ms in state CONNECT)\n",
      "%3|1669338068.995|FAIL|rdkafka#producer-4| [thrd:localhost:8098/bootstrap]: localhost:8098/2: Connect to ipv4#127.0.0.1:8098 failed: Connection refused (after 0ms in state CONNECT, 1 identical error(s) suppressed)\n",
      "%3|1669338069.995|FAIL|rdkafka#producer-4| [thrd:localhost:8100/bootstrap]: localhost:8100/4: Connect to ipv4#127.0.0.1:8100 failed: Connection refused (after 0ms in state CONNECT, 2 identical error(s) suppressed)\n",
      "%3|1669338070.995|FAIL|rdkafka#producer-4| [thrd:localhost:8100/bootstrap]: localhost:8100/4: Connect to ipv6#[::1]:8100 failed: Connection refused (after 0ms in state CONNECT)\n",
      "%3|1669338072.995|FAIL|rdkafka#producer-4| [thrd:localhost:8100/bootstrap]: localhost:8100/4: Connect to ipv4#127.0.0.1:8100 failed: Connection refused (after 0ms in state CONNECT)\n",
      "%3|1669338073.996|FAIL|rdkafka#producer-4| [thrd:localhost:8097/bootstrap]: localhost:8097/1: Connect to ipv6#[::1]:8097 failed: Connection refused (after 0ms in state CONNECT, 1 identical error(s) suppressed)\n",
      "%3|1669338074.996|FAIL|rdkafka#producer-4| [thrd:localhost:8099/bootstrap]: localhost:8099/3: Connect to ipv6#[::1]:8099 failed: Connection refused (after 0ms in state CONNECT)\n",
      "%3|1669338075.995|FAIL|rdkafka#producer-4| [thrd:localhost:8099/bootstrap]: localhost:8099/3: Connect to ipv4#127.0.0.1:8099 failed: Connection refused (after 0ms in state CONNECT)\n",
      "%3|1669338076.995|FAIL|rdkafka#producer-4| [thrd:localhost:8100/bootstrap]: localhost:8100/4: Connect to ipv6#[::1]:8100 failed: Connection refused (after 0ms in state CONNECT)\n",
      "%3|1669338078.995|FAIL|rdkafka#producer-4| [thrd:localhost:8100/bootstrap]: localhost:8100/4: Connect to ipv4#127.0.0.1:8100 failed: Connection refused (after 0ms in state CONNECT)\n",
      "%3|1669338080.995|FAIL|rdkafka#producer-4| [thrd:localhost:8098/bootstrap]: localhost:8098/2: Connect to ipv6#[::1]:8098 failed: Connection refused (after 0ms in state CONNECT)\n",
      "%3|1669338081.995|FAIL|rdkafka#producer-4| [thrd:localhost:8098/bootstrap]: localhost:8098/2: Connect to ipv4#127.0.0.1:8098 failed: Connection refused (after 0ms in state CONNECT)\n",
      "%3|1669338083.996|FAIL|rdkafka#producer-4| [thrd:localhost:8099/bootstrap]: localhost:8099/3: Connect to ipv6#[::1]:8099 failed: Connection refused (after 0ms in state CONNECT)\n",
      "%3|1669338084.996|FAIL|rdkafka#producer-4| [thrd:localhost:8097/bootstrap]: localhost:8097/1: Connect to ipv4#127.0.0.1:8097 failed: Connection refused (after 0ms in state CONNECT)\n",
      "%3|1669338085.996|FAIL|rdkafka#producer-4| [thrd:localhost:8098/bootstrap]: localhost:8098/2: Connect to ipv6#[::1]:8098 failed: Connection refused (after 0ms in state CONNECT)\n",
      "%3|1669338088.996|FAIL|rdkafka#producer-4| [thrd:localhost:8100/bootstrap]: localhost:8100/4: Connect to ipv6#[::1]:8100 failed: Connection refused (after 0ms in state CONNECT)\n",
      "%3|1669338092.996|FAIL|rdkafka#producer-4| [thrd:localhost:8099/bootstrap]: localhost:8099/3: Connect to ipv6#[::1]:8099 failed: Connection refused (after 0ms in state CONNECT, 2 identical error(s) suppressed)\n",
      "%3|1669338093.996|FAIL|rdkafka#producer-4| [thrd:localhost:8099/bootstrap]: localhost:8099/3: Connect to ipv4#127.0.0.1:8099 failed: Connection refused (after 0ms in state CONNECT)\n",
      "%3|1669338094.996|FAIL|rdkafka#producer-4| [thrd:localhost:8098/bootstrap]: localhost:8098/2: Connect to ipv4#127.0.0.1:8098 failed: Connection refused (after 0ms in state CONNECT)\n",
      "%3|1669338095.996|FAIL|rdkafka#producer-4| [thrd:localhost:8100/bootstrap]: localhost:8100/4: Connect to ipv4#127.0.0.1:8100 failed: Connection refused (after 0ms in state CONNECT)\n",
      "%3|1669338096.996|FAIL|rdkafka#producer-4| [thrd:localhost:8098/bootstrap]: localhost:8098/2: Connect to ipv6#[::1]:8098 failed: Connection refused (after 0ms in state CONNECT)\n",
      "%3|1669338097.996|FAIL|rdkafka#producer-4| [thrd:localhost:8097/bootstrap]: localhost:8097/1: Connect to ipv6#[::1]:8097 failed: Connection refused (after 0ms in state CONNECT)\n",
      "%3|1669338098.996|FAIL|rdkafka#producer-4| [thrd:localhost:8097/bootstrap]: localhost:8097/1: Connect to ipv4#127.0.0.1:8097 failed: Connection refused (after 0ms in state CONNECT)\n",
      "%3|1669338101.996|FAIL|rdkafka#producer-4| [thrd:localhost:8097/bootstrap]: localhost:8097/1: Connect to ipv6#[::1]:8097 failed: Connection refused (after 0ms in state CONNECT)\n",
      "%3|1669338103.997|FAIL|rdkafka#producer-4| [thrd:localhost:8100/bootstrap]: localhost:8100/4: Connect to ipv6#[::1]:8100 failed: Connection refused (after 0ms in state CONNECT)\n",
      "%3|1669338104.996|FAIL|rdkafka#producer-4| [thrd:localhost:8097/bootstrap]: localhost:8097/1: Connect to ipv4#127.0.0.1:8097 failed: Connection refused (after 0ms in state CONNECT)\n",
      "%3|1669338105.996|FAIL|rdkafka#producer-4| [thrd:localhost:8097/bootstrap]: localhost:8097/1: Connect to ipv6#[::1]:8097 failed: Connection refused (after 0ms in state CONNECT)\n",
      "%3|1669338106.996|FAIL|rdkafka#producer-4| [thrd:localhost:8100/bootstrap]: localhost:8100/4: Connect to ipv4#127.0.0.1:8100 failed: Connection refused (after 0ms in state CONNECT)\n",
      "%3|1669338107.997|FAIL|rdkafka#producer-4| [thrd:localhost:8097/bootstrap]: localhost:8097/1: Connect to ipv4#127.0.0.1:8097 failed: Connection refused (after 0ms in state CONNECT)\n",
      "%3|1669338108.996|FAIL|rdkafka#producer-4| [thrd:localhost:8097/bootstrap]: localhost:8097/1: Connect to ipv6#[::1]:8097 failed: Connection refused (after 0ms in state CONNECT)\n",
      "%3|1669338109.997|FAIL|rdkafka#producer-4| [thrd:localhost:8098/bootstrap]: localhost:8098/2: Connect to ipv6#[::1]:8098 failed: Connection refused (after 0ms in state CONNECT, 1 identical error(s) suppressed)\n",
      "%3|1669338110.997|FAIL|rdkafka#producer-4| [thrd:localhost:8097/bootstrap]: localhost:8097/1: Connect to ipv4#127.0.0.1:8097 failed: Connection refused (after 0ms in state CONNECT)\n",
      "%3|1669338111.997|FAIL|rdkafka#producer-4| [thrd:localhost:8100/bootstrap]: localhost:8100/4: Connect to ipv6#[::1]:8100 failed: Connection refused (after 0ms in state CONNECT)\n",
      "%3|1669338112.996|FAIL|rdkafka#producer-4| [thrd:localhost:8100/bootstrap]: localhost:8100/4: Connect to ipv4#127.0.0.1:8100 failed: Connection refused (after 0ms in state CONNECT)\n",
      "%3|1669338115.997|FAIL|rdkafka#producer-4| [thrd:localhost:8100/bootstrap]: localhost:8100/4: Connect to ipv4#127.0.0.1:8100 failed: Connection refused (after 0ms in state CONNECT, 1 identical error(s) suppressed)\n",
      "%3|1669338116.997|FAIL|rdkafka#producer-4| [thrd:localhost:8097/bootstrap]: localhost:8097/1: Connect to ipv4#127.0.0.1:8097 failed: Connection refused (after 0ms in state CONNECT, 1 identical error(s) suppressed)\n",
      "%3|1669338119.997|FAIL|rdkafka#producer-4| [thrd:localhost:8097/bootstrap]: localhost:8097/1: Connect to ipv6#[::1]:8097 failed: Connection refused (after 0ms in state CONNECT)\n",
      "%3|1669338121.997|FAIL|rdkafka#producer-4| [thrd:localhost:8097/bootstrap]: localhost:8097/1: Connect to ipv4#127.0.0.1:8097 failed: Connection refused (after 0ms in state CONNECT)\n",
      "%3|1669338122.997|FAIL|rdkafka#producer-4| [thrd:localhost:8100/bootstrap]: localhost:8100/4: Connect to ipv6#[::1]:8100 failed: Connection refused (after 0ms in state CONNECT)\n",
      "%3|1669338123.997|FAIL|rdkafka#producer-4| [thrd:localhost:8100/bootstrap]: localhost:8100/4: Connect to ipv4#127.0.0.1:8100 failed: Connection refused (after 0ms in state CONNECT)\n",
      "%3|1669338124.997|FAIL|rdkafka#producer-4| [thrd:localhost:8097/bootstrap]: localhost:8097/1: Connect to ipv6#[::1]:8097 failed: Connection refused (after 0ms in state CONNECT)\n",
      "%3|1669338125.997|FAIL|rdkafka#producer-4| [thrd:localhost:8098/bootstrap]: localhost:8098/2: Connect to ipv4#127.0.0.1:8098 failed: Connection refused (after 0ms in state CONNECT)\n",
      "%3|1669338126.997|FAIL|rdkafka#producer-4| [thrd:localhost:8098/bootstrap]: localhost:8098/2: Connect to ipv6#[::1]:8098 failed: Connection refused (after 0ms in state CONNECT)\n",
      "%3|1669338127.997|FAIL|rdkafka#producer-4| [thrd:localhost:8097/bootstrap]: localhost:8097/1: Connect to ipv4#127.0.0.1:8097 failed: Connection refused (after 0ms in state CONNECT)\n",
      "%3|1669338128.997|FAIL|rdkafka#producer-4| [thrd:localhost:8098/bootstrap]: localhost:8098/2: Connect to ipv4#127.0.0.1:8098 failed: Connection refused (after 0ms in state CONNECT)\n",
      "%3|1669338130.997|FAIL|rdkafka#producer-4| [thrd:localhost:8100/bootstrap]: localhost:8100/4: Connect to ipv6#[::1]:8100 failed: Connection refused (after 0ms in state CONNECT)\n",
      "%3|1669338131.997|FAIL|rdkafka#producer-4| [thrd:localhost:8100/bootstrap]: localhost:8100/4: Connect to ipv4#127.0.0.1:8100 failed: Connection refused (after 0ms in state CONNECT)\n",
      "%3|1669338132.997|FAIL|rdkafka#producer-4| [thrd:localhost:8100/bootstrap]: localhost:8100/4: Connect to ipv6#[::1]:8100 failed: Connection refused (after 0ms in state CONNECT)\n",
      "%3|1669338133.997|FAIL|rdkafka#producer-4| [thrd:localhost:8097/bootstrap]: localhost:8097/1: Connect to ipv6#[::1]:8097 failed: Connection refused (after 0ms in state CONNECT)\n",
      "%3|1669338135.998|FAIL|rdkafka#producer-4| [thrd:localhost:8099/bootstrap]: localhost:8099/3: Connect to ipv6#[::1]:8099 failed: Connection refused (after 0ms in state CONNECT)\n",
      "%3|1669338138.997|FAIL|rdkafka#producer-4| [thrd:localhost:8098/bootstrap]: localhost:8098/2: Connect to ipv6#[::1]:8098 failed: Connection refused (after 0ms in state CONNECT)\n",
      "%3|1669338139.997|FAIL|rdkafka#producer-4| [thrd:localhost:8099/bootstrap]: localhost:8099/3: Connect to ipv4#127.0.0.1:8099 failed: Connection refused (after 0ms in state CONNECT)\n",
      "%3|1669338140.997|FAIL|rdkafka#producer-4| [thrd:localhost:8100/bootstrap]: localhost:8100/4: Connect to ipv4#127.0.0.1:8100 failed: Connection refused (after 0ms in state CONNECT)\n",
      "%3|1669338141.998|FAIL|rdkafka#producer-4| [thrd:localhost:8097/bootstrap]: localhost:8097/1: Connect to ipv4#127.0.0.1:8097 failed: Connection refused (after 0ms in state CONNECT)\n",
      "%3|1669338143.997|FAIL|rdkafka#producer-4| [thrd:localhost:8100/bootstrap]: localhost:8100/4: Connect to ipv6#[::1]:8100 failed: Connection refused (after 0ms in state CONNECT)\n",
      "%3|1669338144.997|FAIL|rdkafka#producer-4| [thrd:localhost:8098/bootstrap]: localhost:8098/2: Connect to ipv4#127.0.0.1:8098 failed: Connection refused (after 0ms in state CONNECT)\n",
      "%3|1669338145.998|FAIL|rdkafka#producer-4| [thrd:localhost:8099/bootstrap]: localhost:8099/3: Connect to ipv4#127.0.0.1:8099 failed: Connection refused (after 0ms in state CONNECT, 1 identical error(s) suppressed)\n",
      "%3|1669338146.997|FAIL|rdkafka#producer-4| [thrd:localhost:8099/bootstrap]: localhost:8099/3: Connect to ipv6#[::1]:8099 failed: Connection refused (after 0ms in state CONNECT)\n",
      "%3|1669338147.998|FAIL|rdkafka#producer-4| [thrd:localhost:8097/bootstrap]: localhost:8097/1: Connect to ipv4#127.0.0.1:8097 failed: Connection refused (after 0ms in state CONNECT, 1 identical error(s) suppressed)\n",
      "%3|1669338148.998|FAIL|rdkafka#producer-4| [thrd:localhost:8100/bootstrap]: localhost:8100/4: Connect to ipv6#[::1]:8100 failed: Connection refused (after 0ms in state CONNECT, 1 identical error(s) suppressed)\n",
      "%3|1669338149.998|FAIL|rdkafka#producer-4| [thrd:localhost:8098/bootstrap]: localhost:8098/2: Connect to ipv6#[::1]:8098 failed: Connection refused (after 0ms in state CONNECT)\n"
     ]
    }
   ],
   "source": [
    "for topic, f in fs.items():\n",
    "    try:\n",
    "        f.result()  # The result itself is None\n",
    "        print(\"Topic {} created\".format(topic))\n",
    "        print(f)\n",
    "    except Exception as e:\n",
    "        print(\"Failed to create topic {}: {}\".format(topic, e))"
   ]
  }
 ],
 "metadata": {
  "kernelspec": {
   "display_name": "Python 3.9.15 ('spoofing-kafka')",
   "language": "python",
   "name": "python3"
  },
  "language_info": {
   "codemirror_mode": {
    "name": "ipython",
    "version": 3
   },
   "file_extension": ".py",
   "mimetype": "text/x-python",
   "name": "python",
   "nbconvert_exporter": "python",
   "pygments_lexer": "ipython3",
   "version": "3.9.15"
  },
  "orig_nbformat": 4,
  "vscode": {
   "interpreter": {
    "hash": "89fe010ff49a8ce4dbbb05aeda653bd8f0feaf4119263cdf701540a6ad8e4700"
   }
  }
 },
 "nbformat": 4,
 "nbformat_minor": 2
}
