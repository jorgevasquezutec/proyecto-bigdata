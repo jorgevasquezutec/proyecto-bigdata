{
 "cells": [
  {
   "cell_type": "code",
   "execution_count": 6,
   "metadata": {},
   "outputs": [
    {
     "name": "stderr",
     "output_type": "stream",
     "text": [
      "%4|1669324758.242|CLUSTERID|rdkafka#producer-1| [thrd:main]: Broker localhost:8097/1 reports different ClusterId \"FIdQySy7Q2qO16thTSUmPg\" than previously known \"7ekqZKT5RkiI826_jfMQAw\": a client must not be simultaneously connected to multiple clusters\n"
     ]
    }
   ],
   "source": [
    "from confluent_kafka.admin import AdminClient, NewTopic"
   ]
  },
  {
   "cell_type": "code",
   "execution_count": 7,
   "metadata": {},
   "outputs": [],
   "source": [
    "brokers = AdminClient({'bootstrap.servers': 'localhost:8097,localhost:8098,localhost:8099,localhost:8100'})\n",
    "topics = [\n",
    "    'loginattempt',\n",
    "    'filtered',\n",
    "    'checked',\n",
    "    'celery'\n",
    "]"
   ]
  },
  {
   "cell_type": "code",
   "execution_count": 8,
   "metadata": {},
   "outputs": [],
   "source": [
    "new_topics = [NewTopic(topic, num_partitions=3, replication_factor=1) for topic in topics]"
   ]
  },
  {
   "cell_type": "code",
   "execution_count": 9,
   "metadata": {},
   "outputs": [],
   "source": [
    "fs = brokers.create_topics(new_topics)"
   ]
  },
  {
   "cell_type": "code",
   "execution_count": 10,
   "metadata": {},
   "outputs": [
    {
     "name": "stdout",
     "output_type": "stream",
     "text": [
      "Topic loginattempt created\n",
      "<Future at 0x7fed7c5f07f0 state=finished returned NoneType>\n",
      "Topic filtered created\n",
      "<Future at 0x7fed7c5f08e0 state=finished returned NoneType>\n",
      "Topic checked created\n",
      "<Future at 0x7fed7c5f0c70 state=finished returned NoneType>\n",
      "Topic celery created\n",
      "<Future at 0x7fed7c5f09a0 state=finished returned NoneType>\n"
     ]
    },
    {
     "name": "stderr",
     "output_type": "stream",
     "text": [
      "%3|1669326056.523|FAIL|rdkafka#producer-2| [thrd:localhost:8097/bootstrap]: localhost:8097/1: Connect to ipv6#[::1]:8097 failed: Connection refused (after 15ms in state CONNECT)\n",
      "%3|1669326057.508|FAIL|rdkafka#producer-2| [thrd:localhost:8100/bootstrap]: localhost:8100/4: Connect to ipv6#[::1]:8100 failed: Connection refused (after 0ms in state CONNECT)\n",
      "%3|1669326058.508|FAIL|rdkafka#producer-2| [thrd:localhost:8100/bootstrap]: localhost:8100/4: Connect to ipv4#127.0.0.1:8100 failed: Connection refused (after 0ms in state CONNECT)\n",
      "%3|1669326059.510|FAIL|rdkafka#producer-2| [thrd:localhost:8098/bootstrap]: localhost:8098/2: Connect to ipv4#127.0.0.1:8098 failed: Connection refused (after 2ms in state CONNECT)\n",
      "%3|1669326060.509|FAIL|rdkafka#producer-2| [thrd:localhost:8100/bootstrap]: localhost:8100/4: Connect to ipv4#127.0.0.1:8100 failed: Connection refused (after 0ms in state CONNECT, 1 identical error(s) suppressed)\n",
      "%3|1669326061.509|FAIL|rdkafka#producer-2| [thrd:localhost:8099/bootstrap]: localhost:8099/3: Connect to ipv4#127.0.0.1:8099 failed: Connection refused (after 0ms in state CONNECT)\n",
      "%3|1669326062.509|FAIL|rdkafka#producer-2| [thrd:localhost:8097/bootstrap]: localhost:8097/1: Connect to ipv4#127.0.0.1:8097 failed: Connection refused (after 0ms in state CONNECT)\n",
      "%3|1669326064.509|FAIL|rdkafka#producer-2| [thrd:localhost:8099/bootstrap]: localhost:8099/3: Connect to ipv4#127.0.0.1:8099 failed: Connection refused (after 0ms in state CONNECT, 1 identical error(s) suppressed)\n",
      "%3|1669326065.508|FAIL|rdkafka#producer-2| [thrd:localhost:8099/bootstrap]: localhost:8099/3: Connect to ipv6#[::1]:8099 failed: Connection refused (after 0ms in state CONNECT)\n",
      "%6|1669326068.509|FAIL|rdkafka#producer-2| [thrd:localhost:8097/bootstrap]: localhost:8097/1: Disconnected while requesting ApiVersion: might be caused by incorrect security.protocol configuration (connecting to a SSL listener?) or broker version is < 0.10 (see api.version.request) (after 0ms in state APIVERSION_QUERY)\n",
      "%6|1669326068.545|FAIL|rdkafka#producer-2| [thrd:localhost:8098/bootstrap]: localhost:8098/2: Disconnected while requesting ApiVersion: might be caused by incorrect security.protocol configuration (connecting to a SSL listener?) or broker version is < 0.10 (see api.version.request) (after 1036ms in state APIVERSION_QUERY)\n",
      "%6|1669326068.790|FAIL|rdkafka#producer-2| [thrd:localhost:8097/bootstrap]: localhost:8097/1: Disconnected while requesting ApiVersion: might be caused by incorrect security.protocol configuration (connecting to a SSL listener?) or broker version is < 0.10 (see api.version.request) (after 0ms in state APIVERSION_QUERY, 1 identical error(s) suppressed)\n",
      "%6|1669326069.510|FAIL|rdkafka#producer-2| [thrd:localhost:8100/bootstrap]: localhost:8100/4: Disconnected while requesting ApiVersion: might be caused by incorrect security.protocol configuration (connecting to a SSL listener?) or broker version is < 0.10 (see api.version.request) (after 0ms in state APIVERSION_QUERY)\n",
      "%6|1669326070.510|FAIL|rdkafka#producer-2| [thrd:localhost:8098/bootstrap]: localhost:8098/2: Disconnected while requesting ApiVersion: might be caused by incorrect security.protocol configuration (connecting to a SSL listener?) or broker version is < 0.10 (see api.version.request) (after 1ms in state APIVERSION_QUERY, 1 identical error(s) suppressed)\n",
      "%6|1669326071.509|FAIL|rdkafka#producer-2| [thrd:localhost:8099/bootstrap]: localhost:8099/3: Disconnected while requesting ApiVersion: might be caused by incorrect security.protocol configuration (connecting to a SSL listener?) or broker version is < 0.10 (see api.version.request) (after 0ms in state APIVERSION_QUERY)\n"
     ]
    }
   ],
   "source": [
    "for topic, f in fs.items():\n",
    "    try:\n",
    "        f.result()  # The result itself is None\n",
    "        print(\"Topic {} created\".format(topic))\n",
    "        print(f)\n",
    "    except Exception as e:\n",
    "        print(\"Failed to create topic {}: {}\".format(topic, e))"
   ]
  }
 ],
 "metadata": {
  "kernelspec": {
   "display_name": "Python 3.9.15 ('spoofing-kafka')",
   "language": "python",
   "name": "python3"
  },
  "language_info": {
   "codemirror_mode": {
    "name": "ipython",
    "version": 3
   },
   "file_extension": ".py",
   "mimetype": "text/x-python",
   "name": "python",
   "nbconvert_exporter": "python",
   "pygments_lexer": "ipython3",
   "version": "3.9.15"
  },
  "orig_nbformat": 4,
  "vscode": {
   "interpreter": {
    "hash": "89fe010ff49a8ce4dbbb05aeda653bd8f0feaf4119263cdf701540a6ad8e4700"
   }
  }
 },
 "nbformat": 4,
 "nbformat_minor": 2
}
