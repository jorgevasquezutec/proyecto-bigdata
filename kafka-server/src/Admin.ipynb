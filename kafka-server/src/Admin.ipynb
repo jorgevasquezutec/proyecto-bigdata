{
 "cells": [
  {
   "cell_type": "code",
   "execution_count": 1,
   "metadata": {},
   "outputs": [],
   "source": [
    "from confluent_kafka.admin import AdminClient, NewTopic"
   ]
  },
  {
   "cell_type": "code",
   "execution_count": 2,
   "metadata": {},
   "outputs": [],
   "source": [
    "brokers = AdminClient({'bootstrap.servers': 'localhost:8097,localhost:8098,localhost:8099,localhost:8100'})\n",
    "topics = [\n",
    "    'loginattempt',\n",
    "    'filtered',\n",
    "    'checked',\n",
    "    'celery'\n",
    "]"
   ]
  },
  {
   "cell_type": "code",
   "execution_count": 3,
   "metadata": {},
   "outputs": [],
   "source": [
    "new_topics = [NewTopic(topic, num_partitions=3, replication_factor=1) for topic in topics]"
   ]
  },
  {
   "cell_type": "code",
   "execution_count": 4,
   "metadata": {},
   "outputs": [],
   "source": [
    "fs = brokers.create_topics(new_topics)"
   ]
  },
  {
   "cell_type": "code",
   "execution_count": 5,
   "metadata": {},
   "outputs": [
    {
     "name": "stdout",
     "output_type": "stream",
     "text": [
      "Topic loginattempt created\n",
      "<Future at 0x7f0f2aa91ac0 state=finished returned NoneType>\n",
      "Topic filtered created\n",
      "<Future at 0x7f0f2aa91e20 state=finished returned NoneType>\n",
      "Topic checked created\n",
      "<Future at 0x7f0f2aa91bb0 state=finished returned NoneType>\n",
      "Topic celery created\n",
      "<Future at 0x7f0f2aa91c70 state=finished returned NoneType>\n"
     ]
    }
   ],
   "source": [
    "for topic, f in fs.items():\n",
    "    try:\n",
    "        f.result()  # The result itself is None\n",
    "        print(\"Topic {} created\".format(topic))\n",
    "        print(f)\n",
    "    except Exception as e:\n",
    "        print(\"Failed to create topic {}: {}\".format(topic, e))"
   ]
  },
  {
   "cell_type": "code",
   "execution_count": 6,
   "metadata": {},
   "outputs": [
    {
     "name": "stderr",
     "output_type": "stream",
     "text": [
      "%6|1669287002.394|FAIL|rdkafka#producer-1| [thrd:localhost:8100/bootstrap]: localhost:8100/4: Disconnected (after 9634ms in state UP)\n",
      "%3|1669287002.758|FAIL|rdkafka#producer-1| [thrd:localhost:8099/bootstrap]: localhost:8099/3: Connect to ipv4#127.0.0.1:8099 failed: Connection refused (after 1ms in state CONNECT)\n",
      "%3|1669287003.757|FAIL|rdkafka#producer-1| [thrd:localhost:8098/bootstrap]: localhost:8098/2: Connect to ipv4#127.0.0.1:8098 failed: Connection refused (after 0ms in state CONNECT)\n",
      "%3|1669287004.757|FAIL|rdkafka#producer-1| [thrd:localhost:8100/bootstrap]: localhost:8100/4: Connect to ipv4#127.0.0.1:8100 failed: Connection refused (after 0ms in state CONNECT)\n",
      "%3|1669287005.757|FAIL|rdkafka#producer-1| [thrd:localhost:8100/bootstrap]: localhost:8100/4: Connect to ipv6#[::1]:8100 failed: Connection refused (after 0ms in state CONNECT)\n",
      "%3|1669287006.759|FAIL|rdkafka#producer-1| [thrd:localhost:8100/bootstrap]: localhost:8100/4: Connect to ipv4#127.0.0.1:8100 failed: Connection refused (after 1ms in state CONNECT)\n",
      "%3|1669287007.757|FAIL|rdkafka#producer-1| [thrd:localhost:8098/bootstrap]: localhost:8098/2: Connect to ipv6#[::1]:8098 failed: Connection refused (after 0ms in state CONNECT)\n",
      "%3|1669287008.758|FAIL|rdkafka#producer-1| [thrd:localhost:8097/bootstrap]: localhost:8097/1: Connect to ipv6#[::1]:8097 failed: Connection refused (after 1ms in state CONNECT)\n",
      "%3|1669287009.758|FAIL|rdkafka#producer-1| [thrd:localhost:8097/bootstrap]: localhost:8097/1: Connect to ipv4#127.0.0.1:8097 failed: Connection refused (after 0ms in state CONNECT)\n",
      "%3|1669287010.758|FAIL|rdkafka#producer-1| [thrd:localhost:8099/bootstrap]: localhost:8099/3: Connect to ipv6#[::1]:8099 failed: Connection refused (after 0ms in state CONNECT)\n",
      "%3|1669287011.757|FAIL|rdkafka#producer-1| [thrd:localhost:8098/bootstrap]: localhost:8098/2: Connect to ipv4#127.0.0.1:8098 failed: Connection refused (after 0ms in state CONNECT)\n",
      "%3|1669287012.759|FAIL|rdkafka#producer-1| [thrd:localhost:8097/bootstrap]: localhost:8097/1: Connect to ipv6#[::1]:8097 failed: Connection refused (after 1ms in state CONNECT)\n",
      "%3|1669287013.758|FAIL|rdkafka#producer-1| [thrd:localhost:8097/bootstrap]: localhost:8097/1: Connect to ipv4#127.0.0.1:8097 failed: Connection refused (after 1ms in state CONNECT)\n",
      "%3|1669287014.760|FAIL|rdkafka#producer-1| [thrd:localhost:8100/bootstrap]: localhost:8100/4: Connect to ipv4#127.0.0.1:8100 failed: Connection refused (after 2ms in state CONNECT, 1 identical error(s) suppressed)\n",
      "%3|1669287015.758|FAIL|rdkafka#producer-1| [thrd:localhost:8098/bootstrap]: localhost:8098/2: Connect to ipv4#127.0.0.1:8098 failed: Connection refused (after 0ms in state CONNECT, 1 identical error(s) suppressed)\n"
     ]
    }
   ],
   "source": [
    "# list_brokers = brokers.list_topics().brokers\n",
    "# list_topics = brokers.list_topics().topics\n",
    "# print(list_brokers)\n",
    "# print(list_topics)\n",
    "# {1: BrokerMetadata(1, localhost:8097), 4: BrokerMetadata(4, localhost:8100), 2: BrokerMetadata(2, localhost:8098), 3: BrokerMetadata(3, localhost:8099)}\n",
    "# {'filtered': TopicMetadata(filtered, 3 partitions), 'checked': TopicMetadata(checked, 3 partitions), '__consumer_offsets': TopicMetadata(__consumer_offsets, 50 partitions), 'celery': TopicMetadata(celery, 3 partitions), 'loginattempt': TopicMetadata(loginattempt, 3 partitions)}"
   ]
  }
 ],
 "metadata": {
  "kernelspec": {
   "display_name": "Python 3.9.15 ('spoofing-kafka')",
   "language": "python",
   "name": "python3"
  },
  "language_info": {
   "codemirror_mode": {
    "name": "ipython",
    "version": 3
   },
   "file_extension": ".py",
   "mimetype": "text/x-python",
   "name": "python",
   "nbconvert_exporter": "python",
   "pygments_lexer": "ipython3",
   "version": "3.9.15"
  },
  "orig_nbformat": 4,
  "vscode": {
   "interpreter": {
    "hash": "89fe010ff49a8ce4dbbb05aeda653bd8f0feaf4119263cdf701540a6ad8e4700"
   }
  }
 },
 "nbformat": 4,
 "nbformat_minor": 2
}
