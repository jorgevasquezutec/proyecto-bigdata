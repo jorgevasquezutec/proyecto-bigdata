{
 "cells": [
  {
   "cell_type": "code",
   "execution_count": 8,
   "metadata": {},
   "outputs": [],
   "source": [
    "from confluent_kafka.admin import AdminClient, NewTopic"
   ]
  },
  {
   "cell_type": "code",
   "execution_count": 9,
   "metadata": {},
   "outputs": [],
   "source": [
    "brokers = AdminClient({'bootstrap.servers': 'localhost:8097,localhost:8098,localhost:8099,localhost:8100'})\n",
    "topics = [\n",
    "    'loginattempt',\n",
    "    'filtered',\n",
    "    'checked',\n",
    "    'celery'\n",
    "]"
   ]
  },
  {
   "cell_type": "code",
   "execution_count": 11,
   "metadata": {},
   "outputs": [],
   "source": [
    "new_topics = [NewTopic(topic, num_partitions=3, replication_factor=1) for topic in topics]"
   ]
  },
  {
   "cell_type": "code",
   "execution_count": 12,
   "metadata": {},
   "outputs": [],
   "source": [
    "fs = brokers.create_topics(new_topics)"
   ]
  },
  {
   "cell_type": "code",
   "execution_count": 13,
   "metadata": {},
   "outputs": [
    {
     "name": "stdout",
     "output_type": "stream",
     "text": [
      "Topic loginattempt created\n",
      "<Future at 0x7f06574f3190 state=finished returned NoneType>\n",
      "Topic filtered created\n",
      "<Future at 0x7f06574f3e80 state=finished returned NoneType>\n",
      "Topic checked created\n",
      "<Future at 0x7f06574f3370 state=finished returned NoneType>\n",
      "Topic celery created\n",
      "<Future at 0x7f06574f3a90 state=finished returned NoneType>\n"
     ]
    }
   ],
   "source": [
    "for topic, f in fs.items():\n",
    "    try:\n",
    "        f.result()  # The result itself is None\n",
    "        print(\"Topic {} created\".format(topic))\n",
    "        print(f)\n",
    "    except Exception as e:\n",
    "        print(\"Failed to create topic {}: {}\".format(topic, e))"
   ]
  },
  {
   "cell_type": "code",
   "execution_count": 10,
   "metadata": {},
   "outputs": [
    {
     "name": "stdout",
     "output_type": "stream",
     "text": [
      "{4: BrokerMetadata(4, localhost:8100), 1: BrokerMetadata(1, localhost:8097), 2: BrokerMetadata(2, localhost:8098), 3: BrokerMetadata(3, localhost:8099)}\n",
      "{}\n"
     ]
    }
   ],
   "source": [
    "list_brokers = brokers.list_topics().brokers\n",
    "list_topics = brokers.list_topics().topics\n",
    "print(list_brokers)\n",
    "print(list_topics)\n",
    "# {1: BrokerMetadata(1, localhost:8097), 4: BrokerMetadata(4, localhost:8100), 2: BrokerMetadata(2, localhost:8098), 3: BrokerMetadata(3, localhost:8099)}\n",
    "# {'filtered': TopicMetadata(filtered, 3 partitions), 'checked': TopicMetadata(checked, 3 partitions), '__consumer_offsets': TopicMetadata(__consumer_offsets, 50 partitions), 'celery': TopicMetadata(celery, 3 partitions), 'loginattempt': TopicMetadata(loginattempt, 3 partitions)}"
   ]
  }
 ],
 "metadata": {
  "kernelspec": {
   "display_name": "Python 3.9.15 ('spoofing-kafka')",
   "language": "python",
   "name": "python3"
  },
  "language_info": {
   "codemirror_mode": {
    "name": "ipython",
    "version": 3
   },
   "file_extension": ".py",
   "mimetype": "text/x-python",
   "name": "python",
   "nbconvert_exporter": "python",
   "pygments_lexer": "ipython3",
   "version": "3.9.15"
  },
  "orig_nbformat": 4,
  "vscode": {
   "interpreter": {
    "hash": "89fe010ff49a8ce4dbbb05aeda653bd8f0feaf4119263cdf701540a6ad8e4700"
   }
  }
 },
 "nbformat": 4,
 "nbformat_minor": 2
}
