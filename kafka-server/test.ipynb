{
 "cells": [
  {
   "cell_type": "code",
   "execution_count": 8,
   "metadata": {},
   "outputs": [
    {
     "name": "stdout",
     "output_type": "stream",
     "text": [
      "localhost:8097,localhost:8098,localhost:8099,localhost:8100\n"
     ]
    }
   ],
   "source": [
    "import os\n",
    "from dotenv import load_dotenv\n",
    "load_dotenv()\n",
    "BROKERS = os.getenv('BROKERS')\n",
    "print(BROKERS)"
   ]
  },
  {
   "cell_type": "code",
   "execution_count": 9,
   "metadata": {},
   "outputs": [
    {
     "name": "stdout",
     "output_type": "stream",
     "text": [
      "fedora\n"
     ]
    }
   ],
   "source": [
    "import socket\n",
    "print( socket.gethostname())"
   ]
  },
  {
   "cell_type": "code",
   "execution_count": 6,
   "metadata": {},
   "outputs": [
    {
     "name": "stdout",
     "output_type": "stream",
     "text": [
      "[]\n",
      "[]\n"
     ]
    }
   ],
   "source": [
    "import cv2\n",
    "import numpy as np\n",
    "\n",
    "IMG_SIZE: int = 224\n",
    "NUM_FRAMES_PER_VIDEO: int = 16\n",
    "IMG_SIZE: int = 224\n",
    "\n",
    "# cap = cv2.VideoCapture(\"../server/public/videos/DIBVp5cVvl5rRPHzOyRVaa1j6FWOiuEWvi9Hy0CO2J1dX2yU26wls4RjFlDKCHsj.webm\")\n",
    "cap = cv2.VideoCapture(\"/home/jorge/Documentos/utec/ciclo8/ihc/react-webcam-stream-capture.webm\")\n",
    "frames: list = []\n",
    "is_there_frame: bool = True\n",
    "num_total_frames = cap.get(cv2.CAP_PROP_FRAME_COUNT)\n",
    "resampling_rate: int = int(num_total_frames / NUM_FRAMES_PER_VIDEO)\n",
    "idf: int = 0\n",
    "while is_there_frame and len(frames) < NUM_FRAMES_PER_VIDEO:\n",
    "    idf += 1\n",
    "    is_there_frame, frame = cap.read()\n",
    "    if frame is None: \n",
    "        print(np.array([]))\n",
    "    if idf % resampling_rate == 0:\n",
    "        # grayscale\n",
    "        # frame = cv2.cvtColor(frame, cv2.COLOR_BGR2GRAY)\n",
    "        # resize\n",
    "        frame = cv2.resize(frame, (IMG_SIZE, IMG_SIZE))\n",
    "        frames.append(frame)\n",
    "# assert len(frames)==NUM_FRAMES_PER_VIDEO\n",
    "print(np.array(frames))\n",
    "# Check if camera opened successfully\n",
    "# if (cap.isOpened()== False): \n",
    "#   print(\"Error opening video stream or file\")\n",
    " \n",
    "# # Read until video is completed\n",
    "# while(cap.isOpened()):\n",
    "#   # Capture frame-by-frame\n",
    "#   ret, frame = cap.read()\n",
    "#   if ret == True:\n",
    " \n",
    "#     # Display the resulting frame\n",
    "#     cv2.imshow('Frame',frame)\n",
    " \n",
    "#     # Press Q on keyboard to  exit\n",
    "#     if cv2.waitKey(25) & 0xFF == ord('q'):\n",
    "#       break\n",
    " \n",
    "#   # Break the loop\n",
    "#   else: \n",
    "#     break\n",
    " \n",
    "# # When everything done, release the video capture object\n",
    "# cap.release()\n",
    " \n",
    "# # Closes all the frames\n",
    "# cv2.destroyAllWindows()"
   ]
  }
 ],
 "metadata": {
  "kernelspec": {
   "display_name": "Python 3.9.15 ('spoofing-kafka')",
   "language": "python",
   "name": "python3"
  },
  "language_info": {
   "codemirror_mode": {
    "name": "ipython",
    "version": 3
   },
   "file_extension": ".py",
   "mimetype": "text/x-python",
   "name": "python",
   "nbconvert_exporter": "python",
   "pygments_lexer": "ipython3",
   "version": "3.9.15"
  },
  "orig_nbformat": 4,
  "vscode": {
   "interpreter": {
    "hash": "89fe010ff49a8ce4dbbb05aeda653bd8f0feaf4119263cdf701540a6ad8e4700"
   }
  }
 },
 "nbformat": 4,
 "nbformat_minor": 2
}
